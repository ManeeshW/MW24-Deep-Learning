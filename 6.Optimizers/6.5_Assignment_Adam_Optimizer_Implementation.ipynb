{
    "cells": [
        {
            "cell_type": "markdown",
            "metadata": {
                "deletable": false,
                "editable": false,
                "nbgrader": {
                    "grade": false,
                    "locked": true,
                    "solution": false
                }
            },
            "source": [
                "# <font style=\"color:pink\">Assignment: Implement the Adam Optimizer</font>\n",
                "\n",
                "In machine learning, our objective function is the loss that we minimize using different optimizers. Optimizers can optimize any function, whether it is a loss function or any other function. \n",
                "\n",
                "In this assignment, we will minimize a very simple function (a parabola) using an adam optimizer. You have to implement the gradient of the function and the adam optimizer. \n",
                "\n",
                "\n",
                "## <font color='pink'>Marking Scheme</font>\n",
                "\n",
                "#### Maximum Points: 30\n",
                "\n",
                "<div>\n",
                "    <table>\n",
                "        <tr><td><h3>Sr. no.</h3></td> <td><h3>Problem</h3></td> <td><h3>Points</h3></td> </tr>\n",
                "        <tr><td><h3>1</h3></td> <td><h3>3. Implement the Gradient</h3></td> <td><h3>5</h3></td> </tr>\n",
                "        <tr><td><h3>2</h3></td> <td><h3>4. Implement the Adam Optimizer</h3></td> <td><h3>25</h3></td> </tr>\n",
                "    </table>\n",
                "</div>"
            ]
        },
        {
            "cell_type": "code",
            "execution_count": null,
            "metadata": {
                "deletable": false,
                "editable": false,
                "nbgrader": {
                    "grade": false,
                    "locked": true,
                    "solution": false
                }
            },
            "outputs": [],
            "source": [
                "%matplotlib notebook\n",
                "%load_ext autoreload\n",
                "%autoreload 2\n",
                "\n",
                "import torch\n",
                "import torch.nn as nn\n",
                "import math\n",
                "import copy\n",
                "\n",
                "import time\n",
                "from collections import defaultdict\n",
                "\n",
                "import matplotlib.pyplot as plt\n",
                "plt.style.use('ggplot')"
            ]
        },
        {
            "cell_type": "markdown",
            "metadata": {
                "deletable": false,
                "editable": false,
                "nbgrader": {
                    "grade": false,
                    "locked": true,
                    "solution": false
                }
            },
            "source": [
                "# <font style=\"color:green\">1. The Objective Function</font>\n",
                "\n",
                "**The objective function is the f0llowing:**\n",
                "$$\n",
                "f(x) = x^2 -5x + 6\n",
                "$$\n",
                "\n",
                "Have to find the value of $x$ for which the value of the function will be minimum.\n",
                "\n",
                "\n",
                "**In the following cell, the function has been implemented.**"
            ]
        },
        {
            "cell_type": "code",
            "execution_count": null,
            "metadata": {
                "collapsed": true,
                "deletable": false,
                "editable": false,
                "nbgrader": {
                    "grade": false,
                    "locked": true,
                    "solution": false
                }
            },
            "outputs": [],
            "source": [
                "def function(x):\n",
                "    fun = x**2 - 5*x + 6\n",
                "    return fun"
            ]
        },
        {
            "cell_type": "markdown",
            "metadata": {
                "deletable": false,
                "editable": false,
                "nbgrader": {
                    "grade": false,
                    "locked": true,
                    "solution": false
                }
            },
            "source": [
                "# <font style=\"color:green\">2. The Visualizer</font>\n",
                "\n",
                "**In this section, we have code to visualize the function and the learning process to find a minimum.**"
            ]
        },
        {
            "cell_type": "code",
            "execution_count": null,
            "metadata": {
                "collapsed": true,
                "deletable": false,
                "editable": false,
                "nbgrader": {
                    "grade": false,
                    "locked": true,
                    "solution": false
                }
            },
            "outputs": [],
            "source": [
                "plt.rcParams[\"figure.figsize\"] = (8, 8)"
            ]
        },
        {
            "cell_type": "code",
            "execution_count": null,
            "metadata": {
                "collapsed": true,
                "deletable": false,
                "editable": false,
                "nbgrader": {
                    "grade": false,
                    "locked": true,
                    "solution": false
                }
            },
            "outputs": [],
            "source": [
                "class MatplotlibVisualizer:\n",
                "    def __init__(self):\n",
                "        \n",
                "        self.plotdic = {\n",
                "            'x': [],\n",
                "            'y': [],\n",
                "            'color': 'b',\n",
                "            'linestyle': '-',\n",
                "            'label': None,\n",
                "            'linewidth': 1\n",
                "        }\n",
                "        self.plots = defaultdict(list)\n",
                "        self._figures = {}\n",
                "        self._axes = {}\n",
                "        \n",
                "\n",
                "    def init_new_figure(self, name, xlabel, ylabel, dic_list=[]):\n",
                "        if len(dic_list) == 0:\n",
                "            dic_list.append(self.plotdic)\n",
                "        fig, ax = plt.subplots(1, 1)\n",
                "        ax.set_xlabel(xlabel)\n",
                "        ax.set_ylabel(ylabel)\n",
                "        fig.suptitle(name, fontsize=10)\n",
                "        self._figures[name] = fig\n",
                "        self._axes[name] = ax\n",
                "        for dic in dic_list:\n",
                "            d = dict()\n",
                "            for key, value in copy.deepcopy(self.plotdic).items():\n",
                "                d[key] = dic.get(key, value)\n",
                "            self.plots[name].append(d)\n",
                "            \n",
                "        return\n",
                "\n",
                "    def plot(self):\n",
                "        for key, value in self.plots.items():\n",
                "            \n",
                "            ax = self._axes[key]\n",
                "            fig = self._figures[key]\n",
                "            labels = []\n",
                "            for plot in self.plots[key]:\n",
                "                ax.plot(plot['x'], plot['y'], linestyle=plot['linestyle'], \n",
                "                        linewidth=plot['linewidth'], color=plot['color'])\n",
                "                \n",
                "                if len(plot['x']) > 0:\n",
                "                    labels.append(plot['label'])\n",
                "                \n",
                "            ax.legend(labels) \n",
                "            ax.relim()\n",
                "            ax.autoscale_view()\n",
                "            fig.canvas.draw()\n",
                "        plt.show()\n",
                "\n",
                "    def _update_plots(self, name, new_x, new_y, plot_num):\n",
                "        self.plots[name][plot_num]['x'].append(new_x)\n",
                "        self.plots[name][plot_num]['y'].append(new_y)\n",
                "\n",
                "    def update_charts(self, name, new_x, new_y, plot_num=0):\n",
                "        self._update_plots(name, new_x, new_y, plot_num)\n",
                "        self.plot()"
            ]
        },
        {
            "cell_type": "code",
            "execution_count": null,
            "metadata": {
                "deletable": false,
                "editable": false,
                "nbgrader": {
                    "grade": false,
                    "locked": true,
                    "solution": false
                }
            },
            "outputs": [],
            "source": [
                "\n",
                "# values of x\n",
                "x = torch.linspace(0, 5, 100)\n",
                "\n",
                "# f(x) for all x\n",
                "y = function(x)\n",
                "\n",
                "# plot name\n",
                "plt_name = 'Minimizing the function with Adam Optimizer'\n",
                "\n",
                "\n",
                "xlabel = 'x'\n",
                "ylabel = 'f(x)'\n",
                "\n",
                "# init the visualizer class\n",
                "viz = MatplotlibVisualizer()\n",
                "\n",
                "# dictionary for function plot\n",
                "dic = {\n",
                "    'color': 'b',\n",
                "    'label': 'f(x)'\n",
                "}\n",
                "\n",
                "# dictionary for learning plot\n",
                "dic1 = {\n",
                "    'color': 'r',\n",
                "    'label': 'learning_x',\n",
                "    'linewidth': 0.7\n",
                "}\n",
                "viz.init_new_figure(plt_name, xlabel, ylabel, dic_list=[dic, dic1])\n",
                "\n",
                "# let's plot the function\n",
                "for i in range(len(x)):\n",
                "    viz.update_charts(plt_name, x[i], y[i], plot_num=0)\n",
                "    \n",
                "    "
            ]
        },
        {
            "cell_type": "markdown",
            "metadata": {
                "deletable": false,
                "editable": false,
                "nbgrader": {
                    "grade": false,
                    "locked": true,
                    "solution": false
                }
            },
            "source": [
                "# <font style=\"color:green\">3. Implement the Gradient [5 Points]</font>\n",
                "\n",
                "**You have to implement the gradient of the function ($f(x) = x^2 -5x + 6$).**"
            ]
        },
        {
            "cell_type": "code",
            "execution_count": null,
            "metadata": {
                "collapsed": true
            },
            "outputs": [],
            "source": [
                "def grad_function(x):\n",
                "    grad_fun = None\n",
                "    \n",
                "    ###\n",
                "    ### YOUR CODE HERE\n",
                "    ###\n",
                "    return grad_fun"
            ]
        },
        {
            "cell_type": "code",
            "execution_count": null,
            "metadata": {
                "collapsed": true,
                "deletable": false,
                "editable": false,
                "nbgrader": {
                    "grade": true,
                    "grade_id": "3. Implement the Gradient",
                    "locked": true,
                    "points": "5",
                    "solution": false
                }
            },
            "outputs": [],
            "source": [
                "###\n",
                "### AUTOGRADER TEST - DO NOT REMOVE\n",
                "###\n"
            ]
        },
        {
            "cell_type": "markdown",
            "metadata": {
                "deletable": false,
                "editable": false,
                "nbgrader": {
                    "grade": false,
                    "locked": true,
                    "solution": false
                }
            },
            "source": [
                "# <font style=\"color:green\">4. Implement the Adam Optimizer [25 Points]</font>\n",
                "\n",
                "**Adam update rule:**\n",
                "$$\n",
                "\\begin{align}\n",
                "v_t &= \\beta_1 v_{t-1} + (1 - \\beta_1) g_{t-1} \\\\\n",
                "\\\\\n",
                "s_t &= \\beta_2 s_{t-1} + (1 - \\beta_2) g_{t-1}^2 \\\\\n",
                "\\\\\n",
                "\\hat{v_t} &= \\frac{v_t}{1 - {\\beta_1}^t} \\\\\n",
                "\\\\\n",
                "\\hat{s_t} &= \\frac{s_t}{1 - {\\beta_2}^t} \\\\\n",
                "\\\\\n",
                "x_t &= x_{t-1} - \\alpha \\frac {\\hat{v_{t}}}{\\sqrt {\\hat{s_t}} + \\epsilon} \\\\\n",
                "\\end{align}\n",
                "$$\n",
                "\n",
                "**In this section, you have to implement the adam optimizer. Write your code where is specified, do not change anything else.**\n",
                "\n",
                "Find the paper of Adam Optimizer [here](https://arxiv.org/pdf/1412.6980.pdf)."
            ]
        },
        {
            "cell_type": "code",
            "execution_count": null,
            "metadata": {
                "collapsed": true
            },
            "outputs": [],
            "source": [
                "class AdamOptimizer(nn.Module):\n",
                "    \n",
                "    def __init__(self, alpha=0.5, beta_1=0.9, beta_2=0.99, epsilon=1e-5):\n",
                "        super().__init__()\n",
                "        \n",
                "        self.alpha = alpha\n",
                "        self.beta_1 = beta_1\n",
                "        self.beta_2 = beta_2\n",
                "        self.epsilon = epsilon\n",
                "        \n",
                "        self.v_current = 0\n",
                "        self.s_current = 0\n",
                "        self.iter = 0\n",
                "        \n",
                "    def forward(self, x_current, grad):\n",
                "        x_next = None\n",
                "        \n",
                "        ###\n",
                "        ### YOUR CODE HERE\n",
                "        ###\n",
                "        \n",
                "        return x_next\n",
                "        "
            ]
        },
        {
            "cell_type": "code",
            "execution_count": null,
            "metadata": {
                "collapsed": true,
                "deletable": false,
                "editable": false,
                "nbgrader": {
                    "grade": true,
                    "grade_id": "4. Implement the Adam Optimizer",
                    "locked": true,
                    "points": "25",
                    "solution": false
                }
            },
            "outputs": [],
            "source": [
                "###\n",
                "### AUTOGRADER TEST - DO NOT REMOVE\n",
                "###\n"
            ]
        },
        {
            "cell_type": "markdown",
            "metadata": {
                "deletable": false,
                "editable": false,
                "nbgrader": {
                    "grade": false,
                    "locked": true,
                    "solution": false
                }
            },
            "source": [
                "# <font style=\"color:green\">5. Check your Implementations</font>\n",
                "\n",
                "**Let's start with $x=0$ and find the value of $x$ for which the function will have the minimum value. The following function will also return the `number of iteration` to reach this value.**\n"
            ]
        },
        {
            "cell_type": "code",
            "execution_count": null,
            "metadata": {
                "collapsed": true,
                "deletable": false,
                "editable": false,
                "nbgrader": {
                    "grade": false,
                    "locked": true,
                    "solution": false
                }
            },
            "outputs": [],
            "source": [
                "def find_minimum(initial_x, fun, grad_fun, x_change_stop_value=1e-5):\n",
                "    current_x = initial_x\n",
                "    optimizer = AdamOptimizer()\n",
                "    viz.update_charts(plt_name, initial_x, fun(initial_x), plot_num=1)\n",
                "    num_iter = 0\n",
                "    wait = 0\n",
                "    while True:\n",
                "        f = fun(current_x)\n",
                "        g_f = grad_fun(current_x)\n",
                "        x_next = optimizer(current_x, g_f)\n",
                "        viz.update_charts(plt_name, x_next, fun(x_next), plot_num=1)\n",
                "        num_iter += 1\n",
                "        if abs(current_x - x_next) < x_change_stop_value:\n",
                "            wait += 1\n",
                "        else:\n",
                "            wait = 0\n",
                "            \n",
                "        if wait > 10:\n",
                "            break\n",
                "        current_x = x_next\n",
                "            \n",
                "    return x_next, num_iter\n",
                "    "
            ]
        },
        {
            "cell_type": "markdown",
            "metadata": {
                "deletable": false,
                "editable": false,
                "nbgrader": {
                    "grade": false,
                    "locked": true,
                    "solution": false
                }
            },
            "source": [
                "**Running the below cell, you should get the following outputs:**\n",
                "\n",
                "```\n",
                "Value of x: 2.5, number of iteration: 234\n",
                "```\n",
                "\n",
                "**The function will have a minimum value at $x = 2.5$. We can reached close enough!!**"
            ]
        },
        {
            "cell_type": "code",
            "execution_count": null,
            "metadata": {
                "deletable": false,
                "editable": false,
                "nbgrader": {
                    "grade": false,
                    "locked": true,
                    "solution": false
                }
            },
            "outputs": [],
            "source": [
                "x, num_iteration = find_minimum(0, function, grad_function)\n",
                "print('Value of x: {0:.5}, number of iteration: {1}'.format(x, num_iteration))"
            ]
        }
    ],
    "metadata": {
        "kernelspec": {
            "display_name": "Python 3.8",
            "language": "python",
            "name": "python38"
        },
        "language_info": {
            "codemirror_mode": {
                "name": "ipython",
                "version": 3
            },
            "file_extension": ".py",
            "mimetype": "text/x-python",
            "name": "python",
            "nbconvert_exporter": "python",
            "pygments_lexer": "ipython3",
            "version": "3.8.7"
        }
    },
    "nbformat": 4,
    "nbformat_minor": 2
}
